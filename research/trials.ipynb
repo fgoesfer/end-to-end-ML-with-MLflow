{
 "cells": [
  {
   "cell_type": "code",
   "execution_count": 8,
   "metadata": {},
   "outputs": [
    {
     "name": "stdout",
     "output_type": "stream",
     "text": [
      "[2024-01-26 19:23:51,890: INFO: common: yaml file: schema.yaml loaded successfully]\n",
      "[2024-01-26 19:23:51,890: INFO: common: yaml file: config\\config.yaml loaded successfully]\n"
     ]
    }
   ],
   "source": [
    "from mlProject.utils import common as cm\n",
    "from pathlib import Path\n",
    "import pandas as pd\n",
    "\n",
    "schema = cm.read_yaml(Path(\"schema.yaml\"))\n",
    "data_validation_config = cm.read_yaml(Path(\"config\\config.yaml\")).data_validation\n",
    "cols = schema.COLUMNS\n",
    "cols[\"density\"]\n",
    "\n",
    "df = pd.read_csv(data_validation_config.unzip_data_dir)"
   ]
  },
  {
   "cell_type": "code",
   "execution_count": 1,
   "metadata": {},
   "outputs": [
    {
     "data": {
      "text/plain": [
       "'file:///c:/Users/F0NI/OneDrive%20-%20PETROBRAS/Documentos/Cursos/end-to-end-ML-with-MLflow/mlruns'"
      ]
     },
     "execution_count": 1,
     "metadata": {},
     "output_type": "execute_result"
    }
   ],
   "source": [
    "import mlflow\n",
    "from urllib.parse import urlparse\n",
    "\n",
    "mlflow.get_tracking_uri()"
   ]
  },
  {
   "cell_type": "code",
   "execution_count": 6,
   "metadata": {},
   "outputs": [
    {
     "data": {
      "text/plain": [
       "True"
      ]
     },
     "execution_count": 6,
     "metadata": {},
     "output_type": "execute_result"
    }
   ],
   "source": [
    "from pathlib import Path\n",
    "with open(Path(\"artifacts/data_validation/validation_status.txt\"), \"r\") as f:\n",
    "    status = f.read().split(\" \")\n",
    "    \n",
    "\"True\" in status[-1]"
   ]
  }
 ],
 "metadata": {
  "kernelspec": {
   "display_name": "mlproj",
   "language": "python",
   "name": "python3"
  },
  "language_info": {
   "codemirror_mode": {
    "name": "ipython",
    "version": 3
   },
   "file_extension": ".py",
   "mimetype": "text/x-python",
   "name": "python",
   "nbconvert_exporter": "python",
   "pygments_lexer": "ipython3",
   "version": "3.9.18"
  }
 },
 "nbformat": 4,
 "nbformat_minor": 2
}
