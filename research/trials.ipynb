{
 "cells": [
  {
   "cell_type": "code",
   "execution_count": 8,
   "metadata": {},
   "outputs": [
    {
     "name": "stdout",
     "output_type": "stream",
     "text": [
      "[2024-01-26 19:23:51,890: INFO: common: yaml file: schema.yaml loaded successfully]\n",
      "[2024-01-26 19:23:51,890: INFO: common: yaml file: config\\config.yaml loaded successfully]\n"
     ]
    }
   ],
   "source": [
    "from mlProject.utils import common as cm\n",
    "from pathlib import Path\n",
    "import pandas as pd\n",
    "\n",
    "schema = cm.read_yaml(Path(\"schema.yaml\"))\n",
    "data_validation_config = cm.read_yaml(Path(\"config\\config.yaml\")).data_validation\n",
    "cols = schema.COLUMNS\n",
    "cols[\"density\"]\n",
    "\n",
    "df = pd.read_csv(data_validation_config.unzip_data_dir)"
   ]
  },
  {
   "cell_type": "code",
   "execution_count": 12,
   "metadata": {},
   "outputs": [
    {
     "data": {
      "text/plain": [
       "False"
      ]
     },
     "execution_count": 12,
     "metadata": {},
     "output_type": "execute_result"
    }
   ],
   "source": [
    "df.density.dtype != cols[\"density\"]"
   ]
  }
 ],
 "metadata": {
  "kernelspec": {
   "display_name": "mlproj",
   "language": "python",
   "name": "python3"
  },
  "language_info": {
   "codemirror_mode": {
    "name": "ipython",
    "version": 3
   },
   "file_extension": ".py",
   "mimetype": "text/x-python",
   "name": "python",
   "nbconvert_exporter": "python",
   "pygments_lexer": "ipython3",
   "version": "3.9.18"
  }
 },
 "nbformat": 4,
 "nbformat_minor": 2
}
